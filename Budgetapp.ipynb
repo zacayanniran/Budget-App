{
  "nbformat": 4,
  "nbformat_minor": 0,
  "metadata": {
    "colab": {
      "name": "Budgetapp.ipynb",
      "provenance": [],
      "collapsed_sections": [],
      "authorship_tag": "ABX9TyPSlCKYVASC++Kh2nr5P6sq",
      "include_colab_link": true
    },
    "kernelspec": {
      "name": "python3",
      "display_name": "Python 3"
    },
    "language_info": {
      "name": "python"
    }
  },
  "cells": [
    {
      "cell_type": "markdown",
      "metadata": {
        "id": "view-in-github",
        "colab_type": "text"
      },
      "source": [
        "<a href=\"https://colab.research.google.com/github/zacayanniran/Budget-App/blob/main/Budgetapp.ipynb\" target=\"_parent\"><img src=\"https://colab.research.google.com/assets/colab-badge.svg\" alt=\"Open In Colab\"/></a>"
      ]
    },
    {
      "cell_type": "code",
      "metadata": {
        "id": "Tf_D4xLi1RtB"
      },
      "source": [
        "class category:\n",
        "    def __init__(self,name):\n",
        "        self.name = name\n",
        "        self.ledger = list()\n",
        "\n",
        "    def __str__(self):\n",
        "        title = f\"{self.name:*^30}\\n\"\n",
        "        items = \"\"\n",
        "        total = 0\n",
        "        for item in self.ledger:\n",
        "            items += f\"{item['description'][0:3]:23} + f{item['amount']: >7.2f}\" +\"\\n\"\n",
        "            total += item['amount']\n",
        "        output = title + items +\"Total:\" + str(total)\n",
        "        return output\n",
        "\n",
        "    def get_withdrawals(self):\n",
        "        total = 0\n",
        "        for item in self.ledger:\n",
        "            if item[\"amount\"] < 0:\n",
        "                total += item(\"amount\")\n",
        "                return total\n",
        "\n",
        "    def deposit(self,amount,description = \"\"):\n",
        "        \"\"\"A deposit method that accepts an amount and description.The method should append the object to the ledger list in the form of {\"amout\":amount,\"description\":description}\"\"\"\n",
        "        self.ledger.append({\"amount\":amount,\"description\":description})\n",
        "\n",
        "    def withdraw(self,amount,description = \"\"):\n",
        "        \"\"\"The deposit method is similar to deposit but the amount passed in should be stored as a negative\"\"\"\n",
        "        if (self.check_funds(amount)):\n",
        "            self.ledger.append({\"amount\":amount,\"description\":description})\n",
        "            return True\n",
        "        return False\n",
        "\n",
        "    def get_balance(self):\n",
        "        \"\"\"A method the returns the current balance based on the deposits and withdrawals that have occured\"\"\"\n",
        "        total_cash = 0\n",
        "        for item in self.ledger:\n",
        "            total_cash += int(item[\"amount\"])\n",
        "        return total_cash\n",
        "\n",
        "    def transfer(self,amount,category):\n",
        "        \"\"\"A method that accepts an amount and another budget as arguments\"\"\"\n",
        "        if(self.check_funds(amount)):\n",
        "            self.withdraw(amount,\"Transfer to\" + category.name)\n",
        "            category.deposit(amount,\"Transfer from\" + self.name)\n",
        "            return True\n",
        "        return False\n",
        "\n",
        "    def check_funds(self,amount):\n",
        "        \"\"\"A method that accepts an amount as an argument, it returns false if the amount is greater than the balance of the budget category and returns true otherwise\"\"\"\n",
        "        if(self.get_balance()>= amount):\n",
        "            return True\n",
        "        return False\n",
        "\n",
        "\n",
        "food = category(\"food\")\n",
        "food.deposit(1000,\"Initial deposit\")\n",
        "food.withdraw(105.50,\"Groceries\")\n",
        "food.withdraw(15.05,\"Food for the heros\")\n",
        "food.get_balance\n",
        "\n",
        "clothing = category(\"clothing\")\n",
        "clothing.deposit(10,\"Initial deposit\")\n",
        "clothing.withdraw(125.50,\"Children's wears for school\")\n",
        "clothing.withdraw(100.05,\"Wife's clothing allowance\")\n",
        "food.transfer(300,clothing)\n",
        "clothing.get_balance\n",
        "\n",
        "entertainment = category(\"entertainment\")\n",
        "entertainment.deposit(500,\"Initial deposit\")\n",
        "entertainment.withdraw(125.50,\"Year-end party entertainment\")\n",
        "entertainment.get_balance\n",
        "\n",
        "print(food)\n",
        "print(clothing)\n",
        "print(entertainment)\n",
        "\n"
      ],
      "execution_count": null,
      "outputs": []
    }
  ]
}